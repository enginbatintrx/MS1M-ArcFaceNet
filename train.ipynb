{
 "cells": [
  {
   "cell_type": "markdown",
   "metadata": {},
   "source": [
    "# 1. Baseline"
   ]
  },
  {
   "cell_type": "markdown",
   "metadata": {},
   "source": [
    "## Libraries"
   ]
  },
  {
   "cell_type": "code",
   "execution_count": 1,
   "metadata": {},
   "outputs": [],
   "source": [
    "import os\n",
    "from pathlib import Path\n",
    "from tqdm import tqdm\n",
    "from easydict import EasyDict\n",
    "\n",
    "import torch\n",
    "import torch.nn as nn\n",
    "import torch.optim as optim\n",
    "import torchvision.utils as vutils\n",
    "from torchvision import transforms as trans\n",
    "\n",
    "from data.ms1m import get_train_loader\n",
    "from data.lfw import LFW\n",
    "\n",
    "from backbone.arcfacenet import SEResNet_IR\n",
    "from margin.ArcMarginProduct import ArcMarginProduct\n",
    "\n",
    "from util.utils import save_checkpoint, test"
   ]
  },
  {
   "cell_type": "markdown",
   "metadata": {},
   "source": [
    "## Configuration"
   ]
  },
  {
   "cell_type": "code",
   "execution_count": 2,
   "metadata": {},
   "outputs": [],
   "source": [
    "conf = EasyDict()\n",
    "\n",
    "conf.train_root = \"./dataset/MS1M/\"\n",
    "conf.lfw_test_root = \"./dataset/lfw_aligned_112/lfw_aligned_112\"\n",
    "conf.lfw_file_list = \"./dataset/lfw_pair.txt\"\n",
    "\n",
    "conf.mode = \"se_ir\" #' \"ir\"\n",
    "conf.depth = 50 #100,152\n",
    "conf.margin_type = \"ArcFace\"\n",
    "conf.feature_dim = 512 #ArcFace\n",
    "conf.scale_size = 32.0 #ArcFace\n",
    "conf.batch_size = 64 #16,32,64,80 (6GB)\n",
    "conf.lr = 0.01 #Learning rate\n",
    "conf.milestones = [8,10,12]\n",
    "conf.total_epoch = 2\n",
    "\n",
    "conf.save_folder = \"./saved\"\n",
    "conf.save_dir = os.path.join(conf.save_folder, conf.mode + \"_\" + str(conf.depth)) #./saved/se_ir_50\n",
    "conf.device = torch.device(\"cuda:0\" if torch.cuda.is_available() else 'cpu')\n",
    "conf.num_workers = 4\n",
    "conf.pin_memory = True"
   ]
  },
  {
   "cell_type": "code",
   "execution_count": 3,
   "metadata": {},
   "outputs": [],
   "source": [
    "os.makedirs(conf.save_dir, exist_ok=True)"
   ]
  },
  {
   "cell_type": "markdown",
   "metadata": {},
   "source": [
    "## Data Loader"
   ]
  },
  {
   "cell_type": "code",
   "execution_count": 4,
   "metadata": {},
   "outputs": [],
   "source": [
    "transform = trans.Compose([\n",
    "    trans.ToTensor(), #range [0,255] -> [0.0, 1.0]\n",
    "    trans.Normalize(mean=(0.5,0.5,0.5),std=(0.5,0.5,0.5)) #R-G-B \n",
    "])\n",
    "\n",
    "train_loader, class_num = get_train_loader(conf)\n",
    "\n",
    "lfwdataset = LFW(conf.lfw_test_root, conf.lfw_file_list, transform= transform)\n",
    "lfwloader = torch.utils.data.DataLoader(lfwdataset, batch_size=128, num_workers=conf.num_workers)"
   ]
  },
  {
   "cell_type": "markdown",
   "metadata": {
    "scrolled": true
   },
   "source": [
    "## Model"
   ]
  },
  {
   "cell_type": "code",
   "execution_count": 5,
   "metadata": {},
   "outputs": [],
   "source": [
    "net = SEResNet_IR(conf.depth, feature_dim=conf.feature_dim,mode=conf.mode).to(conf.device)\n",
    "margin = ArcMarginProduct(conf.feature_dim, class_num).to(conf.device)\n",
    "\n",
    "criteron = nn.CrossEntropyLoss()\n",
    "optimizer = optim.SGD([\n",
    "    {\"params\":net.parameters(), \"weight_decay\": 5e-4},\n",
    "    {\"params\":margin.parameters(), \"weight_decay\": 5e-4}\n",
    "], lr=conf.lr, momentum=0.9, nesterov=True)\n",
    "\n",
    "def schedule_lr():\n",
    "    for params in optimizer.param_groups:\n",
    "        params[\"lr\"] /= 10\n",
    "    print(optimizer)"
   ]
  },
  {
   "cell_type": "markdown",
   "metadata": {},
   "source": [
    "## Train"
   ]
  },
  {
   "cell_type": "code",
   "execution_count": 6,
   "metadata": {},
   "outputs": [
    {
     "name": "stdout",
     "output_type": "stream",
     "text": [
      "epoch 1/2\n"
     ]
    },
    {
     "name": "stderr",
     "output_type": "stream",
     "text": [
      "100%|████████████████████████████████████████████████████████████████████████████████| 456/456 [05:14<00:00,  1.45it/s]\n"
     ]
    },
    {
     "name": "stdout",
     "output_type": "stream",
     "text": [
      "\n",
      "LFW: 0.6847 | train_loss: 0.0000\n",
      "].\n",
      "best model saved\n",
      "\n",
      "epoch 2/2\n"
     ]
    },
    {
     "name": "stderr",
     "output_type": "stream",
     "text": [
      "100%|████████████████████████████████████████████████████████████████████████████████| 456/456 [05:33<00:00,  1.37it/s]\n"
     ]
    },
    {
     "name": "stdout",
     "output_type": "stream",
     "text": [
      "\n",
      "LFW: 0.6812 | train_loss: 0.0000\n",
      "].\n"
     ]
    }
   ],
   "source": [
    "best_acc = 0\n",
    "\n",
    "for epoch in range(1,conf.total_epoch+1):\n",
    "    \n",
    "    net.train()\n",
    "\n",
    "    print(\"epoch {}/{}\".format(epoch, conf.total_epoch))\n",
    "    if epoch == conf.milestones[0]:\n",
    "        schedule_lr()\n",
    "    if epoch == conf.milestones[1]:\n",
    "        schedule_lr()\n",
    "    if epoch == conf.milestones[2]:\n",
    "        schedule_lr()\n",
    "    for data in tqdm(train_loader):\n",
    "        img, label = data[0].to(conf.device), data[1].to(conf.device)\n",
    "        optimizer.zero_grad()\n",
    "        logits = net(img)\n",
    "        output = margin(logits,label)\n",
    "        total_loss = criteron(output, label)\n",
    "        total_loss.backward()\n",
    "        optimizer.step()\n",
    "    #test\n",
    "    net.eval()\n",
    "    lfw_acc = test(conf,net,lfwdataset,lfwloader)\n",
    "    print(\"\\nLFW: {:.4f} | train_loss: {:.4f}\\n].\".format(lfw_acc,total_loss.item()))\n",
    "    is_best = lfw_acc > best_acc\n",
    "    best_acc = max(lfw_acc, best_acc)\n",
    "    save_checkpoint({'epoch':epoch,\n",
    "                    'net_state_dict':net.state_dict(),\n",
    "                     'margin_state_dict': margin.state_dict(),\n",
    "                     'best_acc': best_acc\n",
    "                    }, is_best, checkpoint=conf.save_dir)\n",
    "\n",
    "\n",
    "\n",
    "\n",
    "\n",
    "\n",
    "        \n",
    "        \n",
    "\n",
    " \n",
    "\n",
    "   "
   ]
  }
 ],
 "metadata": {
  "kernelspec": {
   "display_name": "Python 3 (ipykernel)",
   "language": "python",
   "name": "python3"
  },
  "language_info": {
   "codemirror_mode": {
    "name": "ipython",
    "version": 3
   },
   "file_extension": ".py",
   "mimetype": "text/x-python",
   "name": "python",
   "nbconvert_exporter": "python",
   "pygments_lexer": "ipython3",
   "version": "3.11.7"
  }
 },
 "nbformat": 4,
 "nbformat_minor": 4
}
